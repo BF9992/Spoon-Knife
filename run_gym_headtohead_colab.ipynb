{
  "cells": [
    {
      "cell_type": "markdown",
      "metadata": {
        "id": "view-in-github",
        "colab_type": "text"
      },
      "source": [
        "<a href=\"https://colab.research.google.com/github/BF9992/Spoon-Knife/blob/main/run_gym_headtohead_colab.ipynb\" target=\"_parent\"><img src=\"https://colab.research.google.com/assets/colab-badge.svg\" alt=\"Open In Colab\"/></a>"
      ]
    },
    {
      "cell_type": "code",
      "execution_count": 27,
      "id": "1e30a1e2",
      "metadata": {
        "ExecuteTime": {
          "end_time": "2021-08-07T01:43:26.798549Z",
          "start_time": "2021-08-07T01:43:26.615639Z"
        },
        "id": "1e30a1e2"
      },
      "outputs": [],
      "source": [
        "import numpy as np\n",
        "import matplotlib.pyplot as plt\n",
        "import time\n",
        "from IPython import display"
      ]
    },
    {
      "cell_type": "code",
      "execution_count": null,
      "id": "c19f063f",
      "metadata": {
        "id": "c19f063f"
      },
      "outputs": [],
      "source": [
        "%load_ext autoreload\n",
        "%autoreload 2"
      ]
    },
    {
      "cell_type": "code",
      "execution_count": 29,
      "id": "37488e3d",
      "metadata": {
        "id": "37488e3d",
        "outputId": "62a2e201-ea7b-4fe0-c457-299c68691825",
        "colab": {
          "base_uri": "https://localhost:8080/"
        }
      },
      "outputs": [
        {
          "output_type": "stream",
          "name": "stdout",
          "text": [
            "Hit:1 https://cloud.r-project.org/bin/linux/ubuntu jammy-cran40/ InRelease\n",
            "Hit:2 http://archive.ubuntu.com/ubuntu jammy InRelease\n",
            "Get:3 http://security.ubuntu.com/ubuntu jammy-security InRelease [110 kB]\n",
            "Hit:4 https://developer.download.nvidia.com/compute/cuda/repos/ubuntu2204/x86_64  InRelease\n",
            "Get:5 http://archive.ubuntu.com/ubuntu jammy-updates InRelease [119 kB]\n",
            "Hit:6 http://archive.ubuntu.com/ubuntu jammy-backports InRelease\n",
            "Hit:7 https://ppa.launchpadcontent.net/c2d4u.team/c2d4u4.0+/ubuntu jammy InRelease\n",
            "Hit:8 https://ppa.launchpadcontent.net/deadsnakes/ppa/ubuntu jammy InRelease\n",
            "Hit:9 https://ppa.launchpadcontent.net/graphics-drivers/ppa/ubuntu jammy InRelease\n",
            "Hit:10 https://ppa.launchpadcontent.net/ubuntugis/ppa/ubuntu jammy InRelease\n",
            "Fetched 229 kB in 1s (221 kB/s)\n",
            "Reading package lists... Done\n",
            "Reading package lists... Done\n",
            "Building dependency tree... Done\n",
            "Reading state information... Done\n",
            "xvfb is already the newest version (2:21.1.4-2ubuntu1.7~22.04.2).\n",
            "0 upgraded, 0 newly installed, 0 to remove and 29 not upgraded.\n",
            "Requirement already satisfied: pyvirtualdisplay in /usr/local/lib/python3.10/dist-packages (3.0)\n",
            "Requirement already satisfied: cryptography in /usr/local/lib/python3.10/dist-packages (41.0.7)\n",
            "Requirement already satisfied: cffi>=1.12 in /usr/local/lib/python3.10/dist-packages (from cryptography) (1.16.0)\n",
            "Requirement already satisfied: pycparser in /usr/local/lib/python3.10/dist-packages (from cffi>=1.12->cryptography) (2.21)\n"
          ]
        }
      ],
      "source": [
        "# For colaboratory to have the proper packages installed\n",
        "!apt-get update\n",
        "!apt-get install -y xvfb\n",
        "!pip install pyvirtualdisplay\n",
        "!pip install cryptography"
      ]
    },
    {
      "cell_type": "code",
      "execution_count": 30,
      "id": "043b507d",
      "metadata": {
        "id": "043b507d",
        "outputId": "ead42ec6-caff-4928-9ab2-07412378954e",
        "colab": {
          "base_uri": "https://localhost:8080/"
        }
      },
      "outputs": [
        {
          "output_type": "execute_result",
          "data": {
            "text/plain": [
              "<pyvirtualdisplay.display.Display at 0x7ac890aae5f0>"
            ]
          },
          "metadata": {},
          "execution_count": 30
        }
      ],
      "source": [
        "from pyvirtualdisplay import Display\n",
        "d = Display(visible=0, size=(1400, 900))\n",
        "d.start()"
      ]
    },
    {
      "cell_type": "code",
      "execution_count": 31,
      "id": "a1f77bde",
      "metadata": {
        "id": "a1f77bde",
        "outputId": "cfd1f2c6-dd97-49ad-b970-c509cf32dc5a",
        "colab": {
          "base_uri": "https://localhost:8080/"
        }
      },
      "outputs": [
        {
          "output_type": "stream",
          "name": "stdout",
          "text": [
            "Cloning into 'project_code_public_share_2023'...\n",
            "remote: Enumerating objects: 83, done.\u001b[K\n",
            "remote: Counting objects: 100% (83/83), done.\u001b[K\n",
            "remote: Compressing objects: 100% (62/62), done.\u001b[K\n",
            "remote: Total 83 (delta 32), reused 66 (delta 19), pack-reused 0\u001b[K\n",
            "Receiving objects: 100% (83/83), 30.06 MiB | 3.96 MiB/s, done.\n",
            "Resolving deltas: 100% (32/32), done.\n",
            "/content/project_code_public_share_2023/project_code_public_share_2023/project_code_public_share_2023\n"
          ]
        }
      ],
      "source": [
        "!git clone https://github.com/ORIE5355/project_code_public_share_2023.git\n",
        "%cd project_code_public_share_2023"
      ]
    },
    {
      "cell_type": "code",
      "execution_count": 32,
      "id": "6f282563",
      "metadata": {
        "id": "6f282563",
        "outputId": "40cdc889-a10f-4f79-aa7f-0c5c4153bcd6",
        "colab": {
          "base_uri": "https://localhost:8080/"
        }
      },
      "outputs": [
        {
          "output_type": "stream",
          "name": "stdout",
          "text": [
            "From https://github.com/ORIE5355/project_code_public_share_2023\n",
            " * branch            main       -> FETCH_HEAD\n",
            "Already up to date.\n"
          ]
        }
      ],
      "source": [
        "!git pull origin main"
      ]
    },
    {
      "cell_type": "markdown",
      "id": "89b8f5dc",
      "metadata": {
        "id": "89b8f5dc"
      },
      "source": [
        "To use your agent on colab, after you pull the project code you can upload your own agent code under the agents/ directory in colaboratory, and then replace the agent name below to match your team name."
      ]
    },
    {
      "cell_type": "code",
      "execution_count": 33,
      "id": "1491d1af",
      "metadata": {
        "ExecuteTime": {
          "end_time": "2021-08-07T00:54:11.885238Z",
          "start_time": "2021-08-07T00:54:11.655533Z"
        },
        "id": "1491d1af"
      },
      "outputs": [],
      "source": [
        "import make_env"
      ]
    },
    {
      "cell_type": "code",
      "execution_count": 34,
      "id": "2aae7650",
      "metadata": {
        "id": "2aae7650",
        "outputId": "ac7e50f8-a489-44ad-b754-6fd2f78d7c13",
        "colab": {
          "base_uri": "https://localhost:8080/"
        }
      },
      "outputs": [
        {
          "output_type": "execute_result",
          "data": {
            "text/plain": [
              "['dummy_fixed_prices', 'dummy_fixed_prices_adaptive']"
            ]
          },
          "metadata": {},
          "execution_count": 34
        }
      ],
      "source": [
        "project_part = 2\n",
        "agentnames = ['dummy_fixed_prices', 'dummy_fixed_prices_adaptive']\n",
        "agentnames"
      ]
    },
    {
      "cell_type": "code",
      "execution_count": 35,
      "id": "9d7889c4",
      "metadata": {
        "ExecuteTime": {
          "end_time": "2021-08-07T00:54:12.319787Z",
          "start_time": "2021-08-07T00:54:12.215172Z"
        },
        "id": "9d7889c4",
        "outputId": "832649a1-6cc3-443c-a0c6-5d4899517802",
        "colab": {
          "base_uri": "https://localhost:8080/",
          "height": 1000
        }
      },
      "outputs": [
        {
          "output_type": "stream",
          "name": "stdout",
          "text": [
            "   user_index  Covariate1  Covariate2  Covariate3  price_item_0  price_item_1  \\\n",
            "0           0    0.783155    2.378872    8.342151     72.785084     37.007394   \n",
            "1           1    4.127142    4.024276   12.501464     51.414629     54.021070   \n",
            "2           2    2.483091    8.986873    7.125810     31.885499     37.683472   \n",
            "3           3    1.534569    6.114015    6.885258     44.781299     61.870340   \n",
            "4           4    5.599879    6.106288    7.010118     37.955789     63.114027   \n",
            "\n",
            "   item_bought  \n",
            "0            1  \n",
            "1           -1  \n",
            "2            0  \n",
            "3           -1  \n",
            "4            0  \n",
            "   user_index  Covariate1  Covariate2  Covariate3\n",
            "0       30000    4.058168    9.823123    6.086879\n",
            "1       30001    6.423253    0.859018    8.990928\n",
            "2       30002    1.793184    0.704047    5.865989\n",
            "3       30003    3.040144    3.961137   13.536446\n",
            "4       30004    0.161440    1.738395    5.801892\n",
            "<class 'pandas.core.frame.DataFrame'>\n",
            "RangeIndex: 30000 entries, 0 to 29999\n",
            "Data columns (total 7 columns):\n",
            " #   Column        Non-Null Count  Dtype  \n",
            "---  ------        --------------  -----  \n",
            " 0   user_index    30000 non-null  int64  \n",
            " 1   Covariate1    30000 non-null  float64\n",
            " 2   Covariate2    30000 non-null  float64\n",
            " 3   Covariate3    30000 non-null  float64\n",
            " 4   price_item_0  30000 non-null  float64\n",
            " 5   price_item_1  30000 non-null  float64\n",
            " 6   item_bought   30000 non-null  int64  \n",
            "dtypes: float64(5), int64(2)\n",
            "memory usage: 1.6 MB\n",
            "None\n",
            "<class 'pandas.core.frame.DataFrame'>\n",
            "RangeIndex: 30000 entries, 0 to 29999\n",
            "Data columns (total 4 columns):\n",
            " #   Column      Non-Null Count  Dtype  \n",
            "---  ------      --------------  -----  \n",
            " 0   user_index  30000 non-null  int64  \n",
            " 1   Covariate1  30000 non-null  float64\n",
            " 2   Covariate2  30000 non-null  float64\n",
            " 3   Covariate3  30000 non-null  float64\n",
            "dtypes: float64(3), int64(1)\n",
            "memory usage: 937.6 KB\n",
            "None\n"
          ]
        },
        {
          "output_type": "error",
          "ename": "NameError",
          "evalue": "ignored",
          "traceback": [
            "\u001b[0;31m---------------------------------------------------------------------------\u001b[0m",
            "\u001b[0;31mNameError\u001b[0m                                 Traceback (most recent call last)",
            "\u001b[0;32m<ipython-input-35-32c44b5640a1>\u001b[0m in \u001b[0;36m<cell line: 19>\u001b[0;34m()\u001b[0m\n\u001b[1;32m     17\u001b[0m \u001b[0mprint\u001b[0m\u001b[0;34m(\u001b[0m\u001b[0mtest_data\u001b[0m\u001b[0;34m.\u001b[0m\u001b[0minfo\u001b[0m\u001b[0;34m(\u001b[0m\u001b[0;34m)\u001b[0m\u001b[0;34m)\u001b[0m\u001b[0;34m\u001b[0m\u001b[0;34m\u001b[0m\u001b[0m\n\u001b[1;32m     18\u001b[0m \u001b[0;32mfrom\u001b[0m \u001b[0msklearn\u001b[0m\u001b[0;34m.\u001b[0m\u001b[0mmetrics\u001b[0m \u001b[0;32mimport\u001b[0m \u001b[0mmean_absolute_error\u001b[0m\u001b[0;34m\u001b[0m\u001b[0;34m\u001b[0m\u001b[0m\n\u001b[0;32m---> 19\u001b[0;31m \u001b[0mmae_item_0\u001b[0m \u001b[0;34m=\u001b[0m \u001b[0mmean_absolute_error\u001b[0m\u001b[0;34m(\u001b[0m\u001b[0my_val_item_0\u001b[0m\u001b[0;34m,\u001b[0m \u001b[0mpredictions_item_0\u001b[0m\u001b[0;34m)\u001b[0m\u001b[0;34m\u001b[0m\u001b[0;34m\u001b[0m\u001b[0m\n\u001b[0m\u001b[1;32m     20\u001b[0m \u001b[0mmae_item_1\u001b[0m \u001b[0;34m=\u001b[0m \u001b[0mmean_absolute_error\u001b[0m\u001b[0;34m(\u001b[0m\u001b[0my_val_item_1\u001b[0m\u001b[0;34m,\u001b[0m \u001b[0mpredictions_item_1\u001b[0m\u001b[0;34m)\u001b[0m\u001b[0;34m\u001b[0m\u001b[0;34m\u001b[0m\u001b[0m\n\u001b[1;32m     21\u001b[0m \u001b[0mprint\u001b[0m\u001b[0;34m(\u001b[0m\u001b[0;34mf\"MAE for item 0: {mae_item_0}, MAE for item 1: {mae_item_1}\"\u001b[0m\u001b[0;34m)\u001b[0m\u001b[0;34m\u001b[0m\u001b[0;34m\u001b[0m\u001b[0m\n",
            "\u001b[0;31mNameError\u001b[0m: name 'y_val_item_0' is not defined"
          ]
        }
      ],
      "source": [
        "\n",
        "import pandas as pd\n",
        "\n",
        "# Paths to your data files\n",
        "train_data_path = '/content/project_code_public_share_2023/data/train_prices_decisions.csv'\n",
        "test_data_path = '/content/project_code_public_share_2023/data/test_user_info.csv'\n",
        "\n",
        "# Load the datasets\n",
        "train_data = pd.read_csv(train_data_path)\n",
        "test_data = pd.read_csv(test_data_path)\n",
        "\n",
        "# Display the first few rows of the datasets to understand their structure\n",
        "print(train_data.head())\n",
        "print(test_data.head())\n",
        "\n",
        "# Display the summary information of the datasets\n",
        "print(train_data.info())\n",
        "print(test_data.info())\n",
        "from sklearn.metrics import mean_absolute_error\n",
        "mae_item_0 = mean_absolute_error(y_val_item_0, predictions_item_0)\n",
        "mae_item_1 = mean_absolute_error(y_val_item_1, predictions_item_1)\n",
        "print(f\"MAE for item 0: {mae_item_0}, MAE for item 1: {mae_item_1}\")\n",
        "\n",
        "# Save the trained models for later use\n",
        "import joblib\n",
        "joblib.dump(model_item_0, 'model_item_0.pkl')\n",
        "joblib.dump(model_item_1, 'model_item_1.pkl')\n",
        "\n",
        "# To load the models back:\n",
        "# model_item_0 = joblib.load('model_item_0.pkl')\n",
        "# model_item_1 = joblib.load('model_item_1.pkl')\n"
      ]
    },
    {
      "cell_type": "code",
      "source": [
        "import pandas as pd\n",
        "import joblib\n",
        "\n",
        "# Load the trained models\n",
        "model_item_0 = joblib.load('model_item_0.pkl')\n",
        "model_item_1 = joblib.load('model_item_1.pkl')\n",
        "\n",
        "# Load your test dataset\n",
        "test_data = pd.read_csv(test_data_path)\n",
        "\n",
        "# Features for the prediction\n",
        "test_features = test_data[['Covariate1', 'Covariate2', 'Covariate3']]\n",
        "\n",
        "# Use the models to predict the willingness to pay for each item\n",
        "predicted_prices_item_0 = model_item_0.predict(test_features)\n",
        "predicted_prices_item_1 = model_item_1.predict(test_features)\n",
        "\n",
        "# Define your pricing strategy\n",
        "# As an example, we will set our prices to be a percentage of the predicted willingness to pay\n",
        "# The percentage can be adjusted based on competitor analysis\n",
        "alpha = 0.9  # for example, setting 90% of the predicted price\n",
        "\n",
        "# Calculate the optimal prices to set for maximum profit\n",
        "optimal_prices_item_0 = predicted_prices_item_0 * alpha\n",
        "optimal_prices_item_1 = predicted_prices_item_1 * alpha\n",
        "\n",
        "# Save the optimal prices along with expected revenue to a new DataFrame\n",
        "optimal_prices_df = pd.DataFrame({\n",
        "    'user_index': test_data['user_index'],\n",
        "    'price_item_0': optimal_prices_item_0,\n",
        "    'price_item_1': optimal_prices_item_1,\n",
        "    'expected_revenue': optimal_prices_item_0 + optimal_prices_item_1  # This is a simplification\n",
        "})\n",
        "optimal_prices_df.to_csv('part2_optimal_prices_submission.csv', index=False)\n"
      ],
      "metadata": {
        "id": "siRB0GvzpSTd"
      },
      "id": "siRB0GvzpSTd",
      "execution_count": null,
      "outputs": []
    },
    {
      "cell_type": "code",
      "source": [
        "import make_env"
      ],
      "metadata": {
        "id": "v0HS45gMpdXB"
      },
      "id": "v0HS45gMpdXB",
      "execution_count": null,
      "outputs": []
    },
    {
      "cell_type": "code",
      "source": [
        "project_part = 2\n",
        "agentnames = ['dummy_fixed_prices', 'dummy_fixed_prices_adaptive']\n",
        "agentnames\n",
        "\n",
        "if project_part == 1:\n",
        "    env, agents = make_env.make_env_agents(agentnames = agentnames, project_part = project_part)\n",
        "\n",
        "else:\n",
        "    env, agents = make_env.make_env_agents(agentnames = agentnames, project_part = project_part\n",
        "    , first_file = 'data/datafile1.csv', second_file='data/datafile2.csv')\n",
        "\n",
        "# you can replace the agentnames to match whatever agentfiles you create.\n",
        "# you can use the same agentnames for both agents\n",
        "\n",
        "\n",
        "T = 500\n",
        "\n",
        "env.reset()\n",
        "customer_covariates, sale, profits = env.get_current_state_customer_to_send_agents()\n",
        "last_customer_covariates = customer_covariates\n",
        "cumulativetimes = [0 for _ in agents]\n",
        "\n",
        "fig, ax = plt.subplots(figsize=(20, 10))\n",
        "for t in range(0, T):\n",
        "    actions = []\n",
        "    for enoutside, agent in enumerate(agents):\n",
        "      ts = time.time()\n",
        "      action = agent.action((customer_covariates, sale, profits))\n",
        "      assert len(action) == project_part ## Have to give 1 price for each item. There is 1 item in part 1, 2 items in part 2\n",
        "      curtime = time.time()\n",
        "      cumulativetimes[enoutside] += curtime - ts\n",
        "      actions.append(action)\n",
        "    customer_covariates, sale, profits = env.step(actions)\n",
        "    newplot = env.render(True)\n",
        "    if newplot:\n",
        "      display.clear_output(wait=True)\n",
        "      display.display(plt.gcf())\n",
        "    print('last customer covariate: ', last_customer_covariates)\n",
        "    print('last (item bought, agent bought from, prices): ', sale)\n",
        "    print('current_profit per agent: ', profits)\n",
        "    last_customer_covariates = customer_covariates\n",
        "plt.close()\n",
        "print(\"Cumulative buyer utility: {}\".format(env.cumulative_buyer_utility))\n",
        "print(\"Average per-customer runtime agent 0 in seconds: {}\".format(cumulativetimes[0]/T))\n",
        "print(\"Average per-customer runtime agent 1 in seconds: {}\".format(cumulativetimes[1]/T))"
      ],
      "metadata": {
        "id": "bQqbzYSapeq7"
      },
      "id": "bQqbzYSapeq7",
      "execution_count": null,
      "outputs": []
    },
    {
      "cell_type": "code",
      "execution_count": null,
      "id": "cc88fcfb",
      "metadata": {
        "id": "cc88fcfb"
      },
      "outputs": [],
      "source": []
    }
  ],
  "metadata": {
    "colab": {
      "name": "run_gym_headtohead_googlecolab.ipynb",
      "provenance": [],
      "include_colab_link": true
    },
    "kernelspec": {
      "display_name": "Python 3.8.10 64-bit",
      "language": "python",
      "name": "python3"
    },
    "language_info": {
      "codemirror_mode": {
        "name": "ipython",
        "version": 3
      },
      "file_extension": ".py",
      "mimetype": "text/x-python",
      "name": "python",
      "nbconvert_exporter": "python",
      "pygments_lexer": "ipython3",
      "version": "3.10.6"
    },
    "varInspector": {
      "cols": {
        "lenName": 16,
        "lenType": 16,
        "lenVar": 40
      },
      "kernels_config": {
        "python": {
          "delete_cmd_postfix": "",
          "delete_cmd_prefix": "del ",
          "library": "var_list.py",
          "varRefreshCmd": "print(var_dic_list())"
        },
        "r": {
          "delete_cmd_postfix": ") ",
          "delete_cmd_prefix": "rm(",
          "library": "var_list.r",
          "varRefreshCmd": "cat(var_dic_list()) "
        }
      },
      "types_to_exclude": [
        "module",
        "function",
        "builtin_function_or_method",
        "instance",
        "_Feature"
      ],
      "window_display": false
    },
    "vscode": {
      "interpreter": {
        "hash": "916dbcbb3f70747c44a77c7bcd40155683ae19c65e1c03b4aa3499c5328201f1"
      }
    }
  },
  "nbformat": 4,
  "nbformat_minor": 5
}